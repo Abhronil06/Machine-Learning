{
 "cells": [
  {
   "cell_type": "code",
   "execution_count": 5,
   "id": "2b176213-a7e9-472d-8aa3-6778169d010f",
   "metadata": {},
   "outputs": [
    {
     "name": "stdout",
     "output_type": "stream",
     "text": [
      "[[1 2 3]\n",
      " [4 5 6]]\n",
      "(2, 3)\n",
      "2\n",
      "6\n",
      "int64\n"
     ]
    }
   ],
   "source": [
    "import numpy as np \n",
    "a = np.array([[1,2,3],[4,5,6]])\n",
    "print(a)\n",
    "print(a.shape)\n",
    "print(a.ndim)\n",
    "print(a.size)\n",
    "print(a.dtype)"
   ]
  },
  {
   "cell_type": "code",
   "execution_count": 12,
   "id": "71bedb43-7aaa-4360-9f5c-6f93ff51dfb2",
   "metadata": {},
   "outputs": [
    {
     "name": "stdout",
     "output_type": "stream",
     "text": [
      "[0. 0. 0.]\n",
      "[0 1 2 3 4 5 6 7 8 9]\n"
     ]
    }
   ],
   "source": [
    "import numpy as np \n",
    "a = np.zeros(3)\n",
    "b = np.arange(10)\n",
    "print(a)\n",
    "print(b)\n"
   ]
  },
  {
   "cell_type": "code",
   "execution_count": 30,
   "id": "97559406-92c6-46a2-b8f2-1cc6c9d098bc",
   "metadata": {
    "scrolled": true
   },
   "outputs": [
    {
     "name": "stdout",
     "output_type": "stream",
     "text": [
      "[[ 7 10 13 16 19]\n",
      " [ 7 10 13 16 19]]\n",
      "[[1 2 3 4 5]\n",
      " [1 2 3 4 5]\n",
      " [5 6 7 8 9]\n",
      " [5 6 7 8 9]]\n"
     ]
    }
   ],
   "source": [
    "import numpy as np\n",
    "\n",
    "a = np.array([[1,2,3,4,5],[1,2,3,4,5]])\n",
    "b = np.array([[5,6,7,8,9],[5,6,7,8,9]])\n",
    "print(sum(a,b))\n",
    "c = np.concatenate((a,b),axis = 0)\n",
    "print(c)"
   ]
  },
  {
   "cell_type": "code",
   "execution_count": 27,
   "id": "33b3707f-2c64-419c-b168-40a4965333c8",
   "metadata": {},
   "outputs": [
    {
     "name": "stdout",
     "output_type": "stream",
     "text": [
      "[[ 1  2]\n",
      " [ 3 40]\n",
      " [ 5  6]]\n",
      "40\n"
     ]
    }
   ],
   "source": [
    "import numpy as np\n",
    "a = np.array([1,2,3,40,5,6])\n",
    "print(a.reshape(3,2))\n",
    "print(a.max())"
   ]
  },
  {
   "cell_type": "code",
   "execution_count": 45,
   "id": "a060c48b-6c5b-4f6b-8b3c-7fbb63a89f6b",
   "metadata": {},
   "outputs": [
    {
     "name": "stdout",
     "output_type": "stream",
     "text": [
      "[  4  16  36  64 100 144 196 256 324 400]\n"
     ]
    }
   ],
   "source": [
    "import numpy as np \n",
    "a = np.arange(2,21,2)\n",
    "print(a*a)"
   ]
  },
  {
   "cell_type": "code",
   "execution_count": 39,
   "id": "23501e23-8144-4332-95ca-cc8ed5e8c328",
   "metadata": {},
   "outputs": [
    {
     "name": "stdout",
     "output_type": "stream",
     "text": [
      "99\n",
      "51\n",
      "14.472042012100435\n",
      "72.4\n"
     ]
    }
   ],
   "source": [
    "import numpy as np \n",
    "a = np.array([51,61,71,81,54,76,87,67,56,85,99,77,55,93,73])\n",
    "print(a.max())\n",
    "print(a.min())\n",
    "print(np.std(a))\n",
    "print(np.mean(a))"
   ]
  },
  {
   "cell_type": "code",
   "execution_count": 44,
   "id": "d6aa9657-d9e4-42a5-bbc6-08edbca6841d",
   "metadata": {},
   "outputs": [
    {
     "name": "stdout",
     "output_type": "stream",
     "text": [
      "[[ 1  2  3  4]\n",
      " [ 5  6  7  8]\n",
      " [ 9 10 11 12]\n",
      " [13 14 15 16]\n",
      " [17 18 19 20]]\n",
      "[ 1 -1  3 -1  5 -1  7 -1  9 -1 11 -1 13 -1 15 -1 17 -1 19 -1]\n"
     ]
    }
   ],
   "source": [
    "import numpy as np \n",
    "a = np.array([1,2,3,4,5,6,7,8,9,10,11,12,13,14,15,16,17,18,19,20])\n",
    "print(a.reshape(5,4))\n",
    "a[a%2==0] = -1\n",
    "print(a)"
   ]
  },
  {
   "cell_type": "code",
   "execution_count": 60,
   "id": "c598a16f-1fb3-4120-87f7-e14c078dcab3",
   "metadata": {},
   "outputs": [
    {
     "name": "stdout",
     "output_type": "stream",
     "text": [
      "[[ 1  2  3  4  5]\n",
      " [ 6  7  8  9 10]\n",
      " [11 12 13 14 15]\n",
      " [16 17 18 19 20]\n",
      " [21 22 23 24 25]]\n",
      "\n",
      "[ 1  7 13 19 25]\n",
      "\n",
      "325\n",
      "\n",
      "[ 15  40  65  90 115]\n"
     ]
    }
   ],
   "source": [
    "import numpy as np \n",
    "a = np.linspace(1,25,num = 25,dtype=int)\n",
    "a = a.reshape(5,5)\n",
    "diagonals = a.diagonal()\n",
    "print(a)\n",
    "print()\n",
    "print(diagonals)\n",
    "print()\n",
    "print(a.sum())\n",
    "print()\n",
    "print(a.sum(axis=1))"
   ]
  },
  {
   "cell_type": "code",
   "execution_count": null,
   "id": "0545cfaf-a508-497e-98c8-b57403cb56c7",
   "metadata": {},
   "outputs": [],
   "source": []
  }
 ],
 "metadata": {
  "kernelspec": {
   "display_name": "Python 3 (ipykernel)",
   "language": "python",
   "name": "python3"
  },
  "language_info": {
   "codemirror_mode": {
    "name": "ipython",
    "version": 3
   },
   "file_extension": ".py",
   "mimetype": "text/x-python",
   "name": "python",
   "nbconvert_exporter": "python",
   "pygments_lexer": "ipython3",
   "version": "3.13.5"
  }
 },
 "nbformat": 4,
 "nbformat_minor": 5
}
